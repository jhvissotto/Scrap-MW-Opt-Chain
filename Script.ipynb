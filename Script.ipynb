{
 "cells": [
  {
   "cell_type": "code",
   "execution_count": 1,
   "metadata": {
    "execution": {
     "iopub.execute_input": "2024-11-14T00:37:41.820519Z",
     "iopub.status.busy": "2024-11-14T00:37:41.820199Z",
     "iopub.status.idle": "2024-11-14T00:37:42.377783Z",
     "shell.execute_reply": "2024-11-14T00:37:42.377192Z"
    }
   },
   "outputs": [],
   "source": [
    "import sys; sys.dont_write_bytecode=1\n",
    "import datetime as dt\n",
    "import holidays\n",
    "import requests as req\n",
    "import pandas as pd\n",
    "import sqlite3 as sqlite\n",
    "import deps as _"
   ]
  },
  {
   "cell_type": "code",
   "execution_count": 2,
   "metadata": {
    "execution": {
     "iopub.execute_input": "2024-11-14T00:37:42.380271Z",
     "iopub.status.busy": "2024-11-14T00:37:42.379767Z",
     "iopub.status.idle": "2024-11-14T00:37:42.758632Z",
     "shell.execute_reply": "2024-11-14T00:37:42.757954Z"
    }
   },
   "outputs": [],
   "source": [
    "def GET_INDICE_COMPONENTS():\n",
    "    res  = req.get('https://www.slickcharts.com/sp500', headers={ 'User-Agent':'Mozilla/5.0 (X11; Linux x86_64) AppleWebKit/537.36 (KHTML, like Gecko) Chrome/108.0.0.0 Safari/537.36', 'X-Requested-With':'XMLHttpRequest' })\n",
    "    page = pd.read_html(res.content)\n",
    "    tbl  = page[0]\n",
    "    return tbl\n",
    "\n",
    "SNP_500 = GET_INDICE_COMPONENTS()['Symbol']"
   ]
  },
  {
   "cell_type": "code",
   "execution_count": 3,
   "metadata": {
    "execution": {
     "iopub.execute_input": "2024-11-14T00:37:42.761234Z",
     "iopub.status.busy": "2024-11-14T00:37:42.760825Z",
     "iopub.status.idle": "2024-11-14T00:37:42.812156Z",
     "shell.execute_reply": "2024-11-14T00:37:42.811618Z"
    }
   },
   "outputs": [],
   "source": [
    "ETFS        = ['SPY','DIA','QQQ','XLF','XLC','XLE','XLU','XLP','XLK','XLV','XLI','XLY','XLB','XOP','XBI','XRT','XHB','XME','XLRE','IWM','IYR','NOBL','AMLP','OIH','KRE','VNQ','ITB','KBE','IBB','SMH']\n",
    "TICKERS     = [*ETFS, *SNP_500.head(50)]\n",
    "TODAY       = dt.date.today()\n",
    "IS_HOLIDAY  = TODAY in holidays.US(years=TODAY.year)"
   ]
  },
  {
   "cell_type": "code",
   "execution_count": 4,
   "metadata": {
    "execution": {
     "iopub.execute_input": "2024-11-14T00:37:42.814399Z",
     "iopub.status.busy": "2024-11-14T00:37:42.814011Z",
     "iopub.status.idle": "2024-11-14T00:37:42.817041Z",
     "shell.execute_reply": "2024-11-14T00:37:42.816551Z"
    }
   },
   "outputs": [],
   "source": [
    "if IS_HOLIDAY: raise Exception('IS_HOLIDAY')"
   ]
  },
  {
   "cell_type": "code",
   "execution_count": 5,
   "metadata": {
    "execution": {
     "iopub.execute_input": "2024-11-14T00:37:42.818770Z",
     "iopub.status.busy": "2024-11-14T00:37:42.818442Z",
     "iopub.status.idle": "2024-11-14T00:43:04.338082Z",
     "shell.execute_reply": "2024-11-14T00:43:04.337490Z"
    }
   },
   "outputs": [
    {
     "name": "stdout",
     "output_type": "stream",
     "text": [
      "Start, iLoop: 0/80, Key: SPY\n"
     ]
    },
    {
     "name": "stdout",
     "output_type": "stream",
     "text": [
      "Finish, iLoop: 0/80, Key: SPY\n",
      "Start, iLoop: 1/80, Key: DIA\n"
     ]
    },
    {
     "name": "stdout",
     "output_type": "stream",
     "text": [
      "Finish, iLoop: 1/80, Key: DIA\n",
      "Start, iLoop: 2/80, Key: QQQ\n"
     ]
    },
    {
     "name": "stdout",
     "output_type": "stream",
     "text": [
      "Finish, iLoop: 2/80, Key: QQQ\n",
      "Start, iLoop: 3/80, Key: XLF\n"
     ]
    },
    {
     "name": "stdout",
     "output_type": "stream",
     "text": [
      "Finish, iLoop: 3/80, Key: XLF\n",
      "Start, iLoop: 4/80, Key: XLC\n"
     ]
    },
    {
     "name": "stdout",
     "output_type": "stream",
     "text": [
      "Finish, iLoop: 4/80, Key: XLC\n",
      "Start, iLoop: 5/80, Key: XLE\n"
     ]
    },
    {
     "name": "stdout",
     "output_type": "stream",
     "text": [
      "Finish, iLoop: 5/80, Key: XLE\n",
      "Start, iLoop: 6/80, Key: XLU\n"
     ]
    },
    {
     "name": "stdout",
     "output_type": "stream",
     "text": [
      "Ticker: XLU Tries: 3 Error: HTTP Error 500: Internal Server Error\n"
     ]
    },
    {
     "name": "stdout",
     "output_type": "stream",
     "text": [
      "Finish, iLoop: 6/80, Key: XLU\n",
      "Start, iLoop: 7/80, Key: XLP\n"
     ]
    },
    {
     "name": "stdout",
     "output_type": "stream",
     "text": [
      "Finish, iLoop: 7/80, Key: XLP\n",
      "Start, iLoop: 8/80, Key: XLK\n"
     ]
    },
    {
     "name": "stdout",
     "output_type": "stream",
     "text": [
      "Finish, iLoop: 8/80, Key: XLK\n",
      "Start, iLoop: 9/80, Key: XLV\n"
     ]
    },
    {
     "name": "stdout",
     "output_type": "stream",
     "text": [
      "Finish, iLoop: 9/80, Key: XLV\n",
      "Start, iLoop: 10/80, Key: XLI\n"
     ]
    },
    {
     "name": "stdout",
     "output_type": "stream",
     "text": [
      "Finish, iLoop: 10/80, Key: XLI\n",
      "Start, iLoop: 11/80, Key: XLY\n"
     ]
    },
    {
     "name": "stdout",
     "output_type": "stream",
     "text": [
      "Finish, iLoop: 11/80, Key: XLY\n",
      "Start, iLoop: 12/80, Key: XLB\n"
     ]
    },
    {
     "name": "stdout",
     "output_type": "stream",
     "text": [
      "Finish, iLoop: 12/80, Key: XLB\n",
      "Start, iLoop: 13/80, Key: XOP\n"
     ]
    },
    {
     "name": "stdout",
     "output_type": "stream",
     "text": [
      "Finish, iLoop: 13/80, Key: XOP\n",
      "Start, iLoop: 14/80, Key: XBI\n"
     ]
    },
    {
     "name": "stdout",
     "output_type": "stream",
     "text": [
      "Finish, iLoop: 14/80, Key: XBI\n",
      "Start, iLoop: 15/80, Key: XRT\n"
     ]
    },
    {
     "name": "stdout",
     "output_type": "stream",
     "text": [
      "Finish, iLoop: 15/80, Key: XRT\n",
      "Start, iLoop: 16/80, Key: XHB\n"
     ]
    },
    {
     "name": "stdout",
     "output_type": "stream",
     "text": [
      "Finish, iLoop: 16/80, Key: XHB\n",
      "Start, iLoop: 17/80, Key: XME\n"
     ]
    },
    {
     "name": "stdout",
     "output_type": "stream",
     "text": [
      "Finish, iLoop: 17/80, Key: XME\n",
      "Start, iLoop: 18/80, Key: XLRE\n"
     ]
    },
    {
     "name": "stdout",
     "output_type": "stream",
     "text": [
      "Finish, iLoop: 18/80, Key: XLRE\n",
      "Start, iLoop: 19/80, Key: IWM\n"
     ]
    },
    {
     "name": "stdout",
     "output_type": "stream",
     "text": [
      "Finish, iLoop: 19/80, Key: IWM\n",
      "Start, iLoop: 20/80, Key: IYR\n"
     ]
    },
    {
     "name": "stdout",
     "output_type": "stream",
     "text": [
      "Finish, iLoop: 20/80, Key: IYR\n",
      "Start, iLoop: 21/80, Key: NOBL\n"
     ]
    },
    {
     "name": "stdout",
     "output_type": "stream",
     "text": [
      "Finish, iLoop: 21/80, Key: NOBL\n",
      "Start, iLoop: 22/80, Key: AMLP\n"
     ]
    },
    {
     "name": "stdout",
     "output_type": "stream",
     "text": [
      "Finish, iLoop: 22/80, Key: AMLP\n",
      "Start, iLoop: 23/80, Key: OIH\n"
     ]
    },
    {
     "name": "stdout",
     "output_type": "stream",
     "text": [
      "Finish, iLoop: 23/80, Key: OIH\n",
      "Start, iLoop: 24/80, Key: KRE\n"
     ]
    },
    {
     "name": "stdout",
     "output_type": "stream",
     "text": [
      "Finish, iLoop: 24/80, Key: KRE\n",
      "Start, iLoop: 25/80, Key: VNQ\n"
     ]
    },
    {
     "name": "stdout",
     "output_type": "stream",
     "text": [
      "Finish, iLoop: 25/80, Key: VNQ\n",
      "Start, iLoop: 26/80, Key: ITB\n"
     ]
    },
    {
     "name": "stdout",
     "output_type": "stream",
     "text": [
      "Finish, iLoop: 26/80, Key: ITB\n",
      "Start, iLoop: 27/80, Key: KBE\n"
     ]
    },
    {
     "name": "stdout",
     "output_type": "stream",
     "text": [
      "Finish, iLoop: 27/80, Key: KBE\n",
      "Start, iLoop: 28/80, Key: IBB\n"
     ]
    },
    {
     "name": "stdout",
     "output_type": "stream",
     "text": [
      "Finish, iLoop: 28/80, Key: IBB\n",
      "Start, iLoop: 29/80, Key: SMH\n"
     ]
    },
    {
     "name": "stdout",
     "output_type": "stream",
     "text": [
      "Ticker: SMH Tries: 3 Error: HTTP Error 500: Internal Server Error\n"
     ]
    },
    {
     "name": "stdout",
     "output_type": "stream",
     "text": [
      "Finish, iLoop: 29/80, Key: SMH\n",
      "Start, iLoop: 30/80, Key: NVDA\n"
     ]
    },
    {
     "name": "stdout",
     "output_type": "stream",
     "text": [
      "Finish, iLoop: 30/80, Key: NVDA\n",
      "Start, iLoop: 31/80, Key: AAPL\n"
     ]
    },
    {
     "name": "stdout",
     "output_type": "stream",
     "text": [
      "Finish, iLoop: 31/80, Key: AAPL\n",
      "Start, iLoop: 32/80, Key: MSFT\n"
     ]
    },
    {
     "name": "stdout",
     "output_type": "stream",
     "text": [
      "Finish, iLoop: 32/80, Key: MSFT\n",
      "Start, iLoop: 33/80, Key: AMZN\n"
     ]
    },
    {
     "name": "stdout",
     "output_type": "stream",
     "text": [
      "Finish, iLoop: 33/80, Key: AMZN\n",
      "Start, iLoop: 34/80, Key: META\n"
     ]
    },
    {
     "name": "stdout",
     "output_type": "stream",
     "text": [
      "Finish, iLoop: 34/80, Key: META\n",
      "Start, iLoop: 35/80, Key: GOOGL\n"
     ]
    },
    {
     "name": "stdout",
     "output_type": "stream",
     "text": [
      "Finish, iLoop: 35/80, Key: GOOGL\n",
      "Start, iLoop: 36/80, Key: TSLA\n"
     ]
    },
    {
     "name": "stdout",
     "output_type": "stream",
     "text": [
      "Finish, iLoop: 36/80, Key: TSLA\n",
      "Start, iLoop: 37/80, Key: GOOG\n"
     ]
    },
    {
     "name": "stdout",
     "output_type": "stream",
     "text": [
      "Finish, iLoop: 37/80, Key: GOOG\n",
      "Start, iLoop: 38/80, Key: BRK.B\n"
     ]
    },
    {
     "name": "stdout",
     "output_type": "stream",
     "text": [
      "Finish, iLoop: 38/80, Key: BRK.B\n",
      "Start, iLoop: 39/80, Key: AVGO\n"
     ]
    },
    {
     "name": "stdout",
     "output_type": "stream",
     "text": [
      "Finish, iLoop: 39/80, Key: AVGO\n",
      "Start, iLoop: 40/80, Key: JPM\n"
     ]
    },
    {
     "name": "stdout",
     "output_type": "stream",
     "text": [
      "Finish, iLoop: 40/80, Key: JPM\n",
      "Start, iLoop: 41/80, Key: LLY\n"
     ]
    },
    {
     "name": "stdout",
     "output_type": "stream",
     "text": [
      "Finish, iLoop: 41/80, Key: LLY\n",
      "Start, iLoop: 42/80, Key: UNH\n"
     ]
    },
    {
     "name": "stdout",
     "output_type": "stream",
     "text": [
      "Finish, iLoop: 42/80, Key: UNH\n",
      "Start, iLoop: 43/80, Key: XOM\n"
     ]
    },
    {
     "name": "stdout",
     "output_type": "stream",
     "text": [
      "Finish, iLoop: 43/80, Key: XOM\n",
      "Start, iLoop: 44/80, Key: V\n"
     ]
    },
    {
     "name": "stdout",
     "output_type": "stream",
     "text": [
      "Finish, iLoop: 44/80, Key: V\n",
      "Start, iLoop: 45/80, Key: MA\n"
     ]
    },
    {
     "name": "stdout",
     "output_type": "stream",
     "text": [
      "Finish, iLoop: 45/80, Key: MA\n",
      "Start, iLoop: 46/80, Key: COST\n"
     ]
    },
    {
     "name": "stdout",
     "output_type": "stream",
     "text": [
      "Finish, iLoop: 46/80, Key: COST\n",
      "Start, iLoop: 47/80, Key: HD\n"
     ]
    },
    {
     "name": "stdout",
     "output_type": "stream",
     "text": [
      "Finish, iLoop: 47/80, Key: HD\n",
      "Start, iLoop: 48/80, Key: PG\n"
     ]
    },
    {
     "name": "stdout",
     "output_type": "stream",
     "text": [
      "Finish, iLoop: 48/80, Key: PG\n",
      "Start, iLoop: 49/80, Key: WMT\n"
     ]
    },
    {
     "name": "stdout",
     "output_type": "stream",
     "text": [
      "Finish, iLoop: 49/80, Key: WMT\n",
      "Start, iLoop: 50/80, Key: JNJ\n"
     ]
    },
    {
     "name": "stdout",
     "output_type": "stream",
     "text": [
      "Finish, iLoop: 50/80, Key: JNJ\n",
      "Start, iLoop: 51/80, Key: NFLX\n"
     ]
    },
    {
     "name": "stdout",
     "output_type": "stream",
     "text": [
      "Finish, iLoop: 51/80, Key: NFLX\n",
      "Start, iLoop: 52/80, Key: CRM\n"
     ]
    },
    {
     "name": "stdout",
     "output_type": "stream",
     "text": [
      "Finish, iLoop: 52/80, Key: CRM\n",
      "Start, iLoop: 53/80, Key: BAC\n"
     ]
    },
    {
     "name": "stdout",
     "output_type": "stream",
     "text": [
      "Finish, iLoop: 53/80, Key: BAC\n",
      "Start, iLoop: 54/80, Key: ORCL\n"
     ]
    },
    {
     "name": "stdout",
     "output_type": "stream",
     "text": [
      "Finish, iLoop: 54/80, Key: ORCL\n",
      "Start, iLoop: 55/80, Key: ABBV\n"
     ]
    },
    {
     "name": "stdout",
     "output_type": "stream",
     "text": [
      "Finish, iLoop: 55/80, Key: ABBV\n",
      "Start, iLoop: 56/80, Key: CVX\n"
     ]
    },
    {
     "name": "stdout",
     "output_type": "stream",
     "text": [
      "Finish, iLoop: 56/80, Key: CVX\n",
      "Start, iLoop: 57/80, Key: MRK\n"
     ]
    },
    {
     "name": "stdout",
     "output_type": "stream",
     "text": [
      "Finish, iLoop: 57/80, Key: MRK\n",
      "Start, iLoop: 58/80, Key: WFC\n"
     ]
    },
    {
     "name": "stdout",
     "output_type": "stream",
     "text": [
      "Finish, iLoop: 58/80, Key: WFC\n",
      "Start, iLoop: 59/80, Key: KO\n"
     ]
    },
    {
     "name": "stdout",
     "output_type": "stream",
     "text": [
      "Finish, iLoop: 59/80, Key: KO\n",
      "Start, iLoop: 60/80, Key: CSCO\n"
     ]
    },
    {
     "name": "stdout",
     "output_type": "stream",
     "text": [
      "Finish, iLoop: 60/80, Key: CSCO\n",
      "Start, iLoop: 61/80, Key: ADBE\n"
     ]
    },
    {
     "name": "stdout",
     "output_type": "stream",
     "text": [
      "Ticker: ADBE Tries: 3 Error: HTTP Error 500: Internal Server Error\n"
     ]
    },
    {
     "name": "stdout",
     "output_type": "stream",
     "text": [
      "Ticker: ADBE Tries: 2 Error: HTTP Error 500: Internal Server Error\n"
     ]
    },
    {
     "name": "stdout",
     "output_type": "stream",
     "text": [
      "Finish, iLoop: 61/80, Key: ADBE\n",
      "Start, iLoop: 62/80, Key: AMD\n"
     ]
    },
    {
     "name": "stdout",
     "output_type": "stream",
     "text": [
      "Finish, iLoop: 62/80, Key: AMD\n",
      "Start, iLoop: 63/80, Key: ACN\n"
     ]
    },
    {
     "name": "stdout",
     "output_type": "stream",
     "text": [
      "Finish, iLoop: 63/80, Key: ACN\n",
      "Start, iLoop: 64/80, Key: PEP\n"
     ]
    },
    {
     "name": "stdout",
     "output_type": "stream",
     "text": [
      "Finish, iLoop: 64/80, Key: PEP\n",
      "Start, iLoop: 65/80, Key: LIN\n"
     ]
    },
    {
     "name": "stdout",
     "output_type": "stream",
     "text": [
      "Finish, iLoop: 65/80, Key: LIN\n",
      "Start, iLoop: 66/80, Key: NOW\n"
     ]
    },
    {
     "name": "stdout",
     "output_type": "stream",
     "text": [
      "Finish, iLoop: 66/80, Key: NOW\n",
      "Start, iLoop: 67/80, Key: MCD\n"
     ]
    },
    {
     "name": "stdout",
     "output_type": "stream",
     "text": [
      "Finish, iLoop: 67/80, Key: MCD\n",
      "Start, iLoop: 68/80, Key: TMO\n"
     ]
    },
    {
     "name": "stdout",
     "output_type": "stream",
     "text": [
      "Finish, iLoop: 68/80, Key: TMO\n",
      "Start, iLoop: 69/80, Key: ABT\n"
     ]
    },
    {
     "name": "stdout",
     "output_type": "stream",
     "text": [
      "Finish, iLoop: 69/80, Key: ABT\n",
      "Start, iLoop: 70/80, Key: GE\n"
     ]
    },
    {
     "name": "stdout",
     "output_type": "stream",
     "text": [
      "Finish, iLoop: 70/80, Key: GE\n",
      "Start, iLoop: 71/80, Key: INTU\n"
     ]
    },
    {
     "name": "stdout",
     "output_type": "stream",
     "text": [
      "Finish, iLoop: 71/80, Key: INTU\n",
      "Start, iLoop: 72/80, Key: TXN\n"
     ]
    },
    {
     "name": "stdout",
     "output_type": "stream",
     "text": [
      "Finish, iLoop: 72/80, Key: TXN\n",
      "Start, iLoop: 73/80, Key: IBM\n"
     ]
    },
    {
     "name": "stdout",
     "output_type": "stream",
     "text": [
      "Finish, iLoop: 73/80, Key: IBM\n",
      "Start, iLoop: 74/80, Key: PM\n"
     ]
    },
    {
     "name": "stdout",
     "output_type": "stream",
     "text": [
      "Finish, iLoop: 74/80, Key: PM\n",
      "Start, iLoop: 75/80, Key: CAT\n"
     ]
    },
    {
     "name": "stdout",
     "output_type": "stream",
     "text": [
      "Finish, iLoop: 75/80, Key: CAT\n",
      "Start, iLoop: 76/80, Key: ISRG\n"
     ]
    },
    {
     "name": "stdout",
     "output_type": "stream",
     "text": [
      "Finish, iLoop: 76/80, Key: ISRG\n",
      "Start, iLoop: 77/80, Key: GS\n"
     ]
    },
    {
     "name": "stdout",
     "output_type": "stream",
     "text": [
      "Finish, iLoop: 77/80, Key: GS\n",
      "Start, iLoop: 78/80, Key: DIS\n"
     ]
    },
    {
     "name": "stdout",
     "output_type": "stream",
     "text": [
      "Finish, iLoop: 78/80, Key: DIS\n",
      "Start, iLoop: 79/80, Key: QCOM\n"
     ]
    },
    {
     "name": "stdout",
     "output_type": "stream",
     "text": [
      "Finish, iLoop: 79/80, Key: QCOM\n"
     ]
    }
   ],
   "source": [
    "Chains = _.MW_OptChains(TICKERS, showAll=True)\n",
    "# Chains"
   ]
  },
  {
   "cell_type": "code",
   "execution_count": 6,
   "metadata": {
    "execution": {
     "iopub.execute_input": "2024-11-14T00:43:04.340184Z",
     "iopub.status.busy": "2024-11-14T00:43:04.339761Z",
     "iopub.status.idle": "2024-11-14T00:43:04.974475Z",
     "shell.execute_reply": "2024-11-14T00:43:04.973854Z"
    }
   },
   "outputs": [
    {
     "data": {
      "text/plain": [
       "77530"
      ]
     },
     "execution_count": 6,
     "metadata": {},
     "output_type": "execute_result"
    }
   ],
   "source": [
    "con = sqlite.connect('Filebase.db')\n",
    "Chains.to_sql('Chain', con, if_exists='append', index=0)"
   ]
  }
 ],
 "metadata": {
  "kernelspec": {
   "display_name": "base",
   "language": "python",
   "name": "python3"
  },
  "language_info": {
   "codemirror_mode": {
    "name": "ipython",
    "version": 3
   },
   "file_extension": ".py",
   "mimetype": "text/x-python",
   "name": "python",
   "nbconvert_exporter": "python",
   "pygments_lexer": "ipython3",
   "version": "3.12.7"
  }
 },
 "nbformat": 4,
 "nbformat_minor": 2
}
