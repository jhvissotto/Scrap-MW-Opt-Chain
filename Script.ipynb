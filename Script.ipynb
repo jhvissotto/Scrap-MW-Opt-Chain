{
 "cells": [
  {
   "cell_type": "code",
   "execution_count": null,
   "metadata": {
    "execution": {
     "iopub.execute_input": "2024-11-08T00:56:52.886521Z",
     "iopub.status.busy": "2024-11-08T00:56:52.886321Z",
     "iopub.status.idle": "2024-11-08T00:56:53.325944Z",
     "shell.execute_reply": "2024-11-08T00:56:53.325258Z"
    }
   },
   "outputs": [],
   "source": [
    "import sys; sys.dont_write_bytecode=1\n",
    "import datetime as dt\n",
    "import holidays\n",
    "import requests as req\n",
    "import pandas as pd\n",
    "import sqlite3 as sqlite\n",
    "import deps as _"
   ]
  },
  {
   "cell_type": "code",
   "execution_count": 2,
   "metadata": {
    "execution": {
     "iopub.execute_input": "2024-11-08T00:56:53.328151Z",
     "iopub.status.busy": "2024-11-08T00:56:53.327887Z",
     "iopub.status.idle": "2024-11-08T00:56:53.581181Z",
     "shell.execute_reply": "2024-11-08T00:56:53.580532Z"
    }
   },
   "outputs": [],
   "source": [
    "def GET_INDICE_COMPONENTS():\n",
    "    res  = req.get('https://www.slickcharts.com/sp500', headers={ 'User-Agent':'Mozilla/5.0 (X11; Linux x86_64) AppleWebKit/537.36 (KHTML, like Gecko) Chrome/108.0.0.0 Safari/537.36', 'X-Requested-With':'XMLHttpRequest' })\n",
    "    page = pd.read_html(res.content)\n",
    "    tbl  = page[0]\n",
    "    return tbl\n",
    "\n",
    "SNP_500 = GET_INDICE_COMPONENTS()['Symbol']"
   ]
  },
  {
   "cell_type": "code",
   "execution_count": null,
   "metadata": {
    "execution": {
     "iopub.execute_input": "2024-11-08T00:56:53.583329Z",
     "iopub.status.busy": "2024-11-08T00:56:53.583135Z",
     "iopub.status.idle": "2024-11-08T00:56:53.586273Z",
     "shell.execute_reply": "2024-11-08T00:56:53.585730Z"
    }
   },
   "outputs": [],
   "source": [
    "ETFS        = ['SPY','DIA','QQQ','XLF','XLC','XLE','XLU','XLP','XLK','XLV','XLI','XLY','XLB','XOP','XBI','XRT','XHB','XME','XLRE','IWM','IYR','NOBL','AMLP','OIH','KRE','VNQ','ITB','KBE','IBB','SMH']\n",
    "TICKERS     = [*ETFS, *SNP_500.head(50)]\n",
    "TODAY       = dt.date.today()\n",
    "IS_HOLIDAY  = TODAY in holidays.US(years=TODAY.year)"
   ]
  },
  {
   "cell_type": "code",
   "execution_count": null,
   "metadata": {},
   "outputs": [],
   "source": [
    "if IS_HOLIDAY: raise Exception('IS_HOLIDAY')"
   ]
  },
  {
   "cell_type": "code",
   "execution_count": 4,
   "metadata": {
    "execution": {
     "iopub.execute_input": "2024-11-08T00:56:53.588034Z",
     "iopub.status.busy": "2024-11-08T00:56:53.587858Z",
     "iopub.status.idle": "2024-11-08T01:00:59.480445Z",
     "shell.execute_reply": "2024-11-08T01:00:59.479838Z"
    }
   },
   "outputs": [
    {
     "name": "stdout",
     "output_type": "stream",
     "text": [
      "Start, iLoop: 0/53, Key: SPY\n"
     ]
    },
    {
     "name": "stdout",
     "output_type": "stream",
     "text": [
      "Finish, iLoop: 0/53, Key: SPY\n",
      "Start, iLoop: 1/53, Key: QQQ\n"
     ]
    },
    {
     "name": "stdout",
     "output_type": "stream",
     "text": [
      "Finish, iLoop: 1/53, Key: QQQ\n",
      "Start, iLoop: 2/53, Key: IWM\n"
     ]
    },
    {
     "name": "stdout",
     "output_type": "stream",
     "text": [
      "Finish, iLoop: 2/53, Key: IWM\n",
      "Start, iLoop: 3/53, Key: NVDA\n"
     ]
    },
    {
     "name": "stdout",
     "output_type": "stream",
     "text": [
      "Finish, iLoop: 3/53, Key: NVDA\n",
      "Start, iLoop: 4/53, Key: AAPL\n"
     ]
    },
    {
     "name": "stdout",
     "output_type": "stream",
     "text": [
      "Finish, iLoop: 4/53, Key: AAPL\n",
      "Start, iLoop: 5/53, Key: MSFT\n"
     ]
    },
    {
     "name": "stdout",
     "output_type": "stream",
     "text": [
      "Finish, iLoop: 5/53, Key: MSFT\n",
      "Start, iLoop: 6/53, Key: AMZN\n"
     ]
    },
    {
     "name": "stdout",
     "output_type": "stream",
     "text": [
      "Finish, iLoop: 6/53, Key: AMZN\n",
      "Start, iLoop: 7/53, Key: META\n"
     ]
    },
    {
     "name": "stdout",
     "output_type": "stream",
     "text": [
      "Finish, iLoop: 7/53, Key: META\n",
      "Start, iLoop: 8/53, Key: GOOGL\n"
     ]
    },
    {
     "name": "stdout",
     "output_type": "stream",
     "text": [
      "Finish, iLoop: 8/53, Key: GOOGL\n",
      "Start, iLoop: 9/53, Key: BRK.B\n"
     ]
    },
    {
     "name": "stdout",
     "output_type": "stream",
     "text": [
      "Finish, iLoop: 9/53, Key: BRK.B\n",
      "Start, iLoop: 10/53, Key: GOOG\n"
     ]
    },
    {
     "name": "stdout",
     "output_type": "stream",
     "text": [
      "Finish, iLoop: 10/53, Key: GOOG\n",
      "Start, iLoop: 11/53, Key: AVGO\n"
     ]
    },
    {
     "name": "stdout",
     "output_type": "stream",
     "text": [
      "Finish, iLoop: 11/53, Key: AVGO\n",
      "Start, iLoop: 12/53, Key: TSLA\n"
     ]
    },
    {
     "name": "stdout",
     "output_type": "stream",
     "text": [
      "Finish, iLoop: 12/53, Key: TSLA\n",
      "Start, iLoop: 13/53, Key: JPM\n"
     ]
    },
    {
     "name": "stdout",
     "output_type": "stream",
     "text": [
      "Finish, iLoop: 13/53, Key: JPM\n",
      "Start, iLoop: 14/53, Key: LLY\n"
     ]
    },
    {
     "name": "stdout",
     "output_type": "stream",
     "text": [
      "Finish, iLoop: 14/53, Key: LLY\n",
      "Start, iLoop: 15/53, Key: UNH\n"
     ]
    },
    {
     "name": "stdout",
     "output_type": "stream",
     "text": [
      "Finish, iLoop: 15/53, Key: UNH\n",
      "Start, iLoop: 16/53, Key: XOM\n"
     ]
    },
    {
     "name": "stdout",
     "output_type": "stream",
     "text": [
      "Finish, iLoop: 16/53, Key: XOM\n",
      "Start, iLoop: 17/53, Key: V\n"
     ]
    },
    {
     "name": "stdout",
     "output_type": "stream",
     "text": [
      "Finish, iLoop: 17/53, Key: V\n",
      "Start, iLoop: 18/53, Key: MA\n"
     ]
    },
    {
     "name": "stdout",
     "output_type": "stream",
     "text": [
      "Finish, iLoop: 18/53, Key: MA\n",
      "Start, iLoop: 19/53, Key: COST\n"
     ]
    },
    {
     "name": "stdout",
     "output_type": "stream",
     "text": [
      "Finish, iLoop: 19/53, Key: COST\n",
      "Start, iLoop: 20/53, Key: HD\n"
     ]
    },
    {
     "name": "stdout",
     "output_type": "stream",
     "text": [
      "Finish, iLoop: 20/53, Key: HD\n",
      "Start, iLoop: 21/53, Key: JNJ\n"
     ]
    },
    {
     "name": "stdout",
     "output_type": "stream",
     "text": [
      "Finish, iLoop: 21/53, Key: JNJ\n",
      "Start, iLoop: 22/53, Key: PG\n"
     ]
    },
    {
     "name": "stdout",
     "output_type": "stream",
     "text": [
      "Finish, iLoop: 22/53, Key: PG\n",
      "Start, iLoop: 23/53, Key: WMT\n"
     ]
    },
    {
     "name": "stdout",
     "output_type": "stream",
     "text": [
      "Finish, iLoop: 23/53, Key: WMT\n",
      "Start, iLoop: 24/53, Key: ABBV\n"
     ]
    },
    {
     "name": "stdout",
     "output_type": "stream",
     "text": [
      "Finish, iLoop: 24/53, Key: ABBV\n",
      "Start, iLoop: 25/53, Key: NFLX\n"
     ]
    },
    {
     "name": "stdout",
     "output_type": "stream",
     "text": [
      "Finish, iLoop: 25/53, Key: NFLX\n",
      "Start, iLoop: 26/53, Key: BAC\n"
     ]
    },
    {
     "name": "stdout",
     "output_type": "stream",
     "text": [
      "Finish, iLoop: 26/53, Key: BAC\n",
      "Start, iLoop: 27/53, Key: CRM\n"
     ]
    },
    {
     "name": "stdout",
     "output_type": "stream",
     "text": [
      "Finish, iLoop: 27/53, Key: CRM\n",
      "Start, iLoop: 28/53, Key: ORCL\n"
     ]
    },
    {
     "name": "stdout",
     "output_type": "stream",
     "text": [
      "Finish, iLoop: 28/53, Key: ORCL\n",
      "Start, iLoop: 29/53, Key: CVX\n"
     ]
    },
    {
     "name": "stdout",
     "output_type": "stream",
     "text": [
      "Finish, iLoop: 29/53, Key: CVX\n",
      "Start, iLoop: 30/53, Key: MRK\n"
     ]
    },
    {
     "name": "stdout",
     "output_type": "stream",
     "text": [
      "Finish, iLoop: 30/53, Key: MRK\n",
      "Start, iLoop: 31/53, Key: KO\n"
     ]
    },
    {
     "name": "stdout",
     "output_type": "stream",
     "text": [
      "Finish, iLoop: 31/53, Key: KO\n",
      "Start, iLoop: 32/53, Key: WFC\n"
     ]
    },
    {
     "name": "stdout",
     "output_type": "stream",
     "text": [
      "Finish, iLoop: 32/53, Key: WFC\n",
      "Start, iLoop: 33/53, Key: AMD\n"
     ]
    },
    {
     "name": "stdout",
     "output_type": "stream",
     "text": [
      "Finish, iLoop: 33/53, Key: AMD\n",
      "Start, iLoop: 34/53, Key: CSCO\n"
     ]
    },
    {
     "name": "stdout",
     "output_type": "stream",
     "text": [
      "Finish, iLoop: 34/53, Key: CSCO\n",
      "Start, iLoop: 35/53, Key: PEP\n"
     ]
    },
    {
     "name": "stdout",
     "output_type": "stream",
     "text": [
      "Finish, iLoop: 35/53, Key: PEP\n",
      "Start, iLoop: 36/53, Key: ADBE\n"
     ]
    },
    {
     "name": "stdout",
     "output_type": "stream",
     "text": [
      "Finish, iLoop: 36/53, Key: ADBE\n",
      "Start, iLoop: 37/53, Key: ACN\n"
     ]
    },
    {
     "name": "stdout",
     "output_type": "stream",
     "text": [
      "Finish, iLoop: 37/53, Key: ACN\n",
      "Start, iLoop: 38/53, Key: LIN\n"
     ]
    },
    {
     "name": "stdout",
     "output_type": "stream",
     "text": [
      "Finish, iLoop: 38/53, Key: LIN\n",
      "Start, iLoop: 39/53, Key: TMO\n"
     ]
    },
    {
     "name": "stdout",
     "output_type": "stream",
     "text": [
      "Finish, iLoop: 39/53, Key: TMO\n",
      "Start, iLoop: 40/53, Key: MCD\n"
     ]
    },
    {
     "name": "stdout",
     "output_type": "stream",
     "text": [
      "Finish, iLoop: 40/53, Key: MCD\n",
      "Start, iLoop: 41/53, Key: NOW\n"
     ]
    },
    {
     "name": "stdout",
     "output_type": "stream",
     "text": [
      "Finish, iLoop: 41/53, Key: NOW\n",
      "Start, iLoop: 42/53, Key: ABT\n"
     ]
    },
    {
     "name": "stdout",
     "output_type": "stream",
     "text": [
      "Finish, iLoop: 42/53, Key: ABT\n",
      "Start, iLoop: 43/53, Key: CAT\n"
     ]
    },
    {
     "name": "stdout",
     "output_type": "stream",
     "text": [
      "Finish, iLoop: 43/53, Key: CAT\n",
      "Start, iLoop: 44/53, Key: IBM\n"
     ]
    },
    {
     "name": "stdout",
     "output_type": "stream",
     "text": [
      "Finish, iLoop: 44/53, Key: IBM\n",
      "Start, iLoop: 45/53, Key: TXN\n"
     ]
    },
    {
     "name": "stdout",
     "output_type": "stream",
     "text": [
      "Finish, iLoop: 45/53, Key: TXN\n",
      "Start, iLoop: 46/53, Key: GE\n"
     ]
    },
    {
     "name": "stdout",
     "output_type": "stream",
     "text": [
      "Finish, iLoop: 46/53, Key: GE\n",
      "Start, iLoop: 47/53, Key: PM\n"
     ]
    },
    {
     "name": "stdout",
     "output_type": "stream",
     "text": [
      "Finish, iLoop: 47/53, Key: PM\n",
      "Start, iLoop: 48/53, Key: QCOM\n"
     ]
    },
    {
     "name": "stdout",
     "output_type": "stream",
     "text": [
      "Finish, iLoop: 48/53, Key: QCOM\n",
      "Start, iLoop: 49/53, Key: GS\n"
     ]
    },
    {
     "name": "stdout",
     "output_type": "stream",
     "text": [
      "Finish, iLoop: 49/53, Key: GS\n",
      "Start, iLoop: 50/53, Key: ISRG\n"
     ]
    },
    {
     "name": "stdout",
     "output_type": "stream",
     "text": [
      "Finish, iLoop: 50/53, Key: ISRG\n",
      "Start, iLoop: 51/53, Key: INTU\n"
     ]
    },
    {
     "name": "stdout",
     "output_type": "stream",
     "text": [
      "Finish, iLoop: 51/53, Key: INTU\n",
      "Start, iLoop: 52/53, Key: DIS\n"
     ]
    },
    {
     "name": "stdout",
     "output_type": "stream",
     "text": [
      "Finish, iLoop: 52/53, Key: DIS\n"
     ]
    }
   ],
   "source": [
    "Chains = _.MW_OptChains(TICKERS, showAll=True)\n",
    "# Chains"
   ]
  },
  {
   "cell_type": "code",
   "execution_count": 5,
   "metadata": {
    "execution": {
     "iopub.execute_input": "2024-11-08T01:00:59.482456Z",
     "iopub.status.busy": "2024-11-08T01:00:59.482138Z",
     "iopub.status.idle": "2024-11-08T01:00:59.902414Z",
     "shell.execute_reply": "2024-11-08T01:00:59.901898Z"
    }
   },
   "outputs": [
    {
     "data": {
      "text/plain": [
       "53681"
      ]
     },
     "execution_count": 5,
     "metadata": {},
     "output_type": "execute_result"
    }
   ],
   "source": [
    "con = sqlite.connect('Filebase.db')\n",
    "Chains.to_sql('Chain', con, if_exists='append', index=0)"
   ]
  }
 ],
 "metadata": {
  "kernelspec": {
   "display_name": "base",
   "language": "python",
   "name": "python3"
  },
  "language_info": {
   "codemirror_mode": {
    "name": "ipython",
    "version": 3
   },
   "file_extension": ".py",
   "mimetype": "text/x-python",
   "name": "python",
   "nbconvert_exporter": "python",
   "pygments_lexer": "ipython3",
   "version": "3.11.10"
  }
 },
 "nbformat": 4,
 "nbformat_minor": 2
}
